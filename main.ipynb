{
 "cells": [
  {
   "cell_type": "code",
   "execution_count": 46,
   "metadata": {
    "tags": []
   },
   "outputs": [],
   "source": [
    "import ast\n",
    "import numpy as np\n",
    "import matplotlib.pyplot as plt "
   ]
  },
  {
   "cell_type": "code",
   "execution_count": 47,
   "metadata": {},
   "outputs": [],
   "source": [
    "from src.resolution.benchmark import plot_obj,plot_time"
   ]
  },
  {
   "cell_type": "code",
   "execution_count": 61,
   "metadata": {},
   "outputs": [],
   "source": [
    "name = \"out/didactic/7_1 11-19/stats/benchmark.txt\"\n",
    "with open(name) as f:\n",
    "    bench = ast.literal_eval(f.read())"
   ]
  },
  {
   "cell_type": "code",
   "execution_count": 62,
   "metadata": {},
   "outputs": [
    {
     "data": {
      "text/plain": [
       "dict_keys(['pre_z', 'z', 'time', 'nb_plat', 'k_VNS', 'nb_modifs', 'modif_k', 'non_fini'])"
      ]
     },
     "execution_count": 62,
     "metadata": {},
     "output_type": "execute_result"
    }
   ],
   "source": [
    "#bench['pre_z', 'z', 'time', 'nb_plat', 'k_VNS', 'nb_modifs', 'modif_k', 'non_fini']\n",
    "bench.keys()"
   ]
  },
  {
   "cell_type": "code",
   "execution_count": 63,
   "metadata": {},
   "outputs": [
    {
     "data": {
      "text/plain": [
       "[25, 27, 11, 0, 7]"
      ]
     },
     "execution_count": 63,
     "metadata": {},
     "output_type": "execute_result"
    }
   ],
   "source": [
    "bench['nb_modifs']"
   ]
  },
  {
   "cell_type": "code",
   "execution_count": 66,
   "metadata": {},
   "outputs": [
    {
     "name": "stdout",
     "output_type": "stream",
     "text": [
      "[[[-1, 0, 0], [-1, 0, 0], [-1, 0, 0], [-1, 0, 0], [-1, 0, 0], [-1, 0, 0], [-1, 0, 0], [-1, 0, 0], [-1, 0, 1], [-1, 0, 1], [-1, 0, 2], [0, 0, 0], [0, 1, 0], [1, 0, 0], [1, 0, 0], [1, 0, 0], [1, 0, 0], [1, 1, 0], [1, 1, 0], [1, 1, 0], [1, 0, 2], [1, 0, 0], [1, 0, 0], [1, 0, 0], [1, 0, 2]], [[-1, 0, 0], [-1, 0, 0], [-1, 0, 0], [-1, 0, 1], [-1, 0, 1], [-1, 0, 1], [-1, 0, 2], [-1, 0, 0], [0, 0, 0], [0, 0, 0], [0, 1, 0], [0, 1, 0], [0, 1, 0], [0, 1, 0], [0, 1, 0], [0, 1, 0], [0, 1, 0], [0, 1, 0], [0, 0, 1], [0, 0, 2], [0, 0, 0], [0, 0, 0], [0, 0, 0], [0, 0, 0], [0, 0, 0], [0, 0, 0], [0, 0, 0]], [[0, 0, 0], [0, 0, 0], [0, 0, 0], [0, 1, 0], [0, 1, 0], [0, 1, 0], [0, 1, 0], [0, 1, 0], [0, 1, 0], [0, 1, 0], [0, 1, 0]], [], [[0, 0, 0], [0, 1, 2], [0, 1, 0], [0, 1, 0], [1, 0, 0], [1, 1, 0], [1, 1, 0]]]\n",
      "5\n",
      "25\n",
      "27\n",
      "11\n",
      "0\n",
      "7\n"
     ]
    }
   ],
   "source": [
    "print(bench[\"modif_k\"])\n",
    "print(len(bench[\"modif_k\"]))\n",
    "for i in range(len(bench[\"modif_k\"])):\n",
    "    print(len(bench[\"modif_k\"][i]))"
   ]
  },
  {
   "cell_type": "code",
   "execution_count": 55,
   "metadata": {},
   "outputs": [
    {
     "data": {
      "text/plain": [
       "[2, 1, 2, 1, 2]"
      ]
     },
     "execution_count": 55,
     "metadata": {},
     "output_type": "execute_result"
    }
   ],
   "source": [
    "bench[\"nb_plat\"]"
   ]
  },
  {
   "cell_type": "code",
   "execution_count": 69,
   "metadata": {},
   "outputs": [
    {
     "name": "stdout",
     "output_type": "stream",
     "text": [
      "5\n",
      "0\n",
      "1\n",
      "2\n",
      "3\n",
      "4\n",
      "[[[-1, 11], [0, 2], [1, 12]], [[-1, 8], [0, 19]], [[-1, 0], [0, 11], [1, 0]], [[-1, 0], [0, 0]], [[-1, 0], [0, 4], [1, 3]]]\n"
     ]
    }
   ],
   "source": [
    "sum_sum_p_modif = []\n",
    "sum_sum_k_modif = np.zeros(4).tolist()\n",
    "a_sum_k_modif = []\n",
    "print(len(bench[\"modif_k\"]))\n",
    "\n",
    "for i in range(len(bench[\"modif_k\"])):\n",
    "    print(i)\n",
    "    sum_p_modif = []\n",
    "    \n",
    "    for j in range(bench[\"nb_plat\"][i]+1):\n",
    "        sum_p_modif.append([j-1,0])\n",
    "\n",
    "    for j in range(len(bench[\"modif_k\"][i])):\n",
    "        modif = bench[\"modif_k\"][i][j]\n",
    "        sum_p_modif[modif[0]+1][1] += 1\n",
    "\n",
    "    sum_sum_p_modif.append(sum_p_modif)\n",
    "    \n",
    "print(sum_sum_p_modif)\n"
   ]
  },
  {
   "cell_type": "code",
   "execution_count": 19,
   "metadata": {},
   "outputs": [],
   "source": [
    "import ast\n",
    "from src.resolution.struct.plateforme import *\n",
    "from src.resolution.struct.tournee import *\n",
    "from src.resolution.struct.solution import *\n",
    "\n",
    "from src.entity.instance import *\n",
    "\n",
    "\n",
    "with open(\"out/didactic/7_3 12-8/solution/solution.txt\",\"r\") as f:\n",
    "        d = ast.literal_eval(f.read())\n",
    "\n",
    "with open(\"out/didactic/7_3 12-8/solution/solution_updated.txt\",\"r\") as f:\n",
    "        dp = ast.literal_eval(f.read())\n",
    "\n",
    "with open(\"out/didactic/7_3 12-8/solution/solution_translated.txt\",\"r\") as f:\n",
    "        dt = ast.literal_eval(f.read())\n"
   ]
  },
  {
   "cell_type": "code",
   "execution_count": 20,
   "metadata": {},
   "outputs": [
    {
     "data": {
      "text/plain": [
       "[{'order': [110, 86, 87, 85, 104, 105, 106, 83, 98, 82, 107, 109],\n",
       "  'size': 12,\n",
       "  'load': 905.5},\n",
       " {'order': [96, 95, 81, 97, 91, 90, 103, 102, 93, 89, 99, 92, 94],\n",
       "  'size': 13,\n",
       "  'load': 1198.5}]"
      ]
     },
     "execution_count": 20,
     "metadata": {},
     "output_type": "execute_result"
    }
   ],
   "source": [
    "d[\"sales\"]"
   ]
  },
  {
   "cell_type": "code",
   "execution_count": 21,
   "metadata": {},
   "outputs": [
    {
     "data": {
      "text/plain": [
       "[{'order': [33, 7, 8, 6, 26, 27, 28, 4, 19, 3, 29, 32],\n",
       "  'size': 12,\n",
       "  'load': 905.5},\n",
       " {'order': [17, 16, 0, 18, 12, 11, 25, 24, 14, 10, 20, 13, 15],\n",
       "  'size': 13,\n",
       "  'load': 1198.5}]"
      ]
     },
     "execution_count": 21,
     "metadata": {},
     "output_type": "execute_result"
    }
   ],
   "source": [
    "dp[\"sales\"]"
   ]
  },
  {
   "cell_type": "code",
   "execution_count": 27,
   "metadata": {},
   "outputs": [
    {
     "data": {
      "text/plain": [
       "{'order': ['GAEC Le Grand Large',\n",
       "  'Gaec de la Pature',\n",
       "  'GAEC La Ferme de Lévéra',\n",
       "  'Les vignes marines',\n",
       "  'SCA Les Salines de Guérande',\n",
       "  'Le potager de Lili - EARL Lemoine',\n",
       "  'EARL Les Jardins de Domhery',\n",
       "  'SARL La Ferme du Bois de Boulle',\n",
       "  'BROSSEAU',\n",
       "  'EARL HUITRIC Producteur',\n",
       "  \"Les vergers de la Côte d'Amour\",\n",
       "  'Burban Producteur',\n",
       "  'Ferme à Donges, nom non donné',\n",
       "  'SA Stephan',\n",
       "  'Jardins de Brière',\n",
       "  'EARL Le Riandon',\n",
       "  'GAEC Les Jardins de la Perrière',\n",
       "  'Les Ruchers du Pays Blanc',\n",
       "  'Les Vergers du Littoral',\n",
       "  'GAEC de la Grée',\n",
       "  'Charcuterie Traiteur des Marais'],\n",
       " 'size': 21,\n",
       " 'load': 1187.0}"
      ]
     },
     "execution_count": 27,
     "metadata": {},
     "output_type": "execute_result"
    }
   ],
   "source": [
    "dt[\"plateformes\"][0][\"tournees\"][0][0]"
   ]
  },
  {
   "cell_type": "code",
   "execution_count": 6,
   "metadata": {},
   "outputs": [
    {
     "data": {
      "text/plain": [
       "dict_keys(['sales', 'plateformes'])"
      ]
     },
     "execution_count": 6,
     "metadata": {},
     "output_type": "execute_result"
    }
   ],
   "source": [
    "d.keys()"
   ]
  },
  {
   "cell_type": "code",
   "execution_count": 7,
   "metadata": {},
   "outputs": [
    {
     "data": {
      "text/plain": [
       "dict_keys(['numero', 'xT', 'cli_affect', 'pt_affect', 'tournees'])"
      ]
     },
     "execution_count": 7,
     "metadata": {},
     "output_type": "execute_result"
    }
   ],
   "source": [
    "d[\"plateformes\"][0].keys()"
   ]
  },
  {
   "cell_type": "code",
   "execution_count": 8,
   "metadata": {},
   "outputs": [
    {
     "data": {
      "text/plain": [
       "dict_keys(['order', 'size', 'load'])"
      ]
     },
     "execution_count": 8,
     "metadata": {},
     "output_type": "execute_result"
    }
   ],
   "source": [
    "d[\"sales\"][0].keys()"
   ]
  },
  {
   "cell_type": "code",
   "execution_count": 10,
   "metadata": {},
   "outputs": [],
   "source": [
    "#Modifier un dict décrivant une solution en indices lors de résolution en solution avec indices post resolution\n",
    "def updating_solution_to_instance(d_s : dict, indices_resolution:list, data:Sub_data):\n",
    "    return 0\n",
    "\n",
    "def updating_plateforme(d_p : dict, indices:list, base_c :int, base_pt : int, t:int):\n",
    "    for c in d_p[\"cli_affect\"]:\n",
    "        print(c)\n",
    "\n",
    "    \n",
    "def updating_tournee(t : Tournee, base:int, indices:list):\n",
    "    return 0"
   ]
  },
  {
   "cell_type": "code",
   "execution_count": 1,
   "metadata": {},
   "outputs": [],
   "source": [
    "def input_spe(prompt,lim):\n",
    "    r = ''\n",
    "    valid = False\n",
    "    while not valid and r != -1:\n",
    "        temp_r = input(prompt)\n",
    "        print(temp_r)\n",
    "        if temp_r != \"\":\n",
    "            try:\n",
    "                r = int(temp_r)\n",
    "                if r > lim:\n",
    "                    print(\"L'entrée \" + str(temp_r) + \" ne peut pas être converti, merci de donner un nombre entre 0 et \"+str(lim)+ \"(-1 pour quitter)\")\n",
    "                else:\n",
    "                    valid = True\n",
    "            except ValueError as ve:\n",
    "                print(ve)\n",
    "                print(\"L'entrée \" + str(temp_r) + \" ne peut pas être converti, merci de donner un nombre entre 0 et \"+str(lim)+ \"(-1 pour quitter)\")\n",
    "    return r\n"
   ]
  },
  {
   "cell_type": "code",
   "execution_count": 2,
   "metadata": {},
   "outputs": [
    {
     "name": "stdout",
     "output_type": "stream",
     "text": [
      "\n",
      "true\n",
      "invalid literal for int() with base 10: 'true'\n",
      "L'entrée true ne peut pas être converti, merci de donner un nombre entre 0 et 5(-1 pour quitter)\n",
      "Truc\n",
      "invalid literal for int() with base 10: 'Truc'\n",
      "L'entrée Truc ne peut pas être converti, merci de donner un nombre entre 0 et 5(-1 pour quitter)\n",
      "Truc\n",
      "invalid literal for int() with base 10: 'Truc'\n",
      "L'entrée Truc ne peut pas être converti, merci de donner un nombre entre 0 et 5(-1 pour quitter)\n",
      "10\n",
      "L'entrée 10 ne peut pas être converti, merci de donner un nombre entre 0 et 5(-1 pour quitter)\n",
      "10\n",
      "L'entrée 10 ne peut pas être converti, merci de donner un nombre entre 0 et 5(-1 pour quitter)\n",
      "2\n"
     ]
    },
    {
     "data": {
      "text/plain": [
       "2"
      ]
     },
     "execution_count": 2,
     "metadata": {},
     "output_type": "execute_result"
    }
   ],
   "source": [
    "input_spe(\"bababoui\", 5)"
   ]
  },
  {
   "cell_type": "code",
   "execution_count": null,
   "metadata": {},
   "outputs": [],
   "source": []
  }
 ],
 "metadata": {
  "kernelspec": {
   "display_name": "Python 3 (ipykernel)",
   "language": "python",
   "name": "python3"
  },
  "language_info": {
   "codemirror_mode": {
    "name": "ipython",
    "version": 3
   },
   "file_extension": ".py",
   "mimetype": "text/x-python",
   "name": "python",
   "nbconvert_exporter": "python",
   "pygments_lexer": "ipython3",
   "version": "3.10.7"
  }
 },
 "nbformat": 4,
 "nbformat_minor": 4
}
