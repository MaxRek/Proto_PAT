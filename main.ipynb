{
 "cells": [
  {
   "cell_type": "code",
   "execution_count": 1,
   "metadata": {},
   "outputs": [],
   "source": [
    "import os \n",
    "from datetime import datetime"
   ]
  },
  {
   "cell_type": "code",
   "execution_count": 3,
   "metadata": {},
   "outputs": [],
   "source": [
    "#Log\n",
    "if not (os.path.isdir(\"out\")):\n",
    "    os.mkdir(\"out\")\n",
    "    os.mkdir(\"out/logs\")\n",
    "\n",
    "if not (os.path.isdir(\"out/logs\")):\n",
    "    os.mkdir(\"out/logs\")\n",
    "\n",
    "log_name = \"out/log_\" + datetime.now().strftime(\"%H-%M\") + \".txt\"\n",
    "io = open(log_name + \".txt\",\"w\")\n",
    "io.close()"
   ]
  },
  {
   "cell_type": "code",
   "execution_count": null,
   "metadata": {},
   "outputs": [],
   "source": []
  }
 ],
 "metadata": {
  "kernelspec": {
   "display_name": "Python 3",
   "language": "python",
   "name": "python3"
  },
  "language_info": {
   "codemirror_mode": {
    "name": "ipython",
    "version": 3
   },
   "file_extension": ".py",
   "mimetype": "text/x-python",
   "name": "python",
   "nbconvert_exporter": "python",
   "pygments_lexer": "ipython3",
   "version": "3.10.7"
  }
 },
 "nbformat": 4,
 "nbformat_minor": 2
}
