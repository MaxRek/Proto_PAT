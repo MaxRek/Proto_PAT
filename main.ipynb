{
 "cells": [
  {
   "cell_type": "code",
   "execution_count": 46,
   "metadata": {
    "tags": []
   },
   "outputs": [],
   "source": [
    "import ast\n",
    "import numpy as np\n",
    "import matplotlib.pyplot as plt "
   ]
  },
  {
   "cell_type": "code",
   "execution_count": 47,
   "metadata": {},
   "outputs": [],
   "source": [
    "from src.resolution.benchmark import plot_obj,plot_time"
   ]
  },
  {
   "cell_type": "code",
   "execution_count": 61,
   "metadata": {},
   "outputs": [],
   "source": [
    "name = \"out/didactic/7_1 11-19/stats/benchmark.txt\"\n",
    "with open(name) as f:\n",
    "    bench = ast.literal_eval(f.read())"
   ]
  },
  {
   "cell_type": "code",
   "execution_count": 62,
   "metadata": {},
   "outputs": [
    {
     "data": {
      "text/plain": [
       "dict_keys(['pre_z', 'z', 'time', 'nb_plat', 'k_VNS', 'nb_modifs', 'modif_k', 'non_fini'])"
      ]
     },
     "execution_count": 62,
     "metadata": {},
     "output_type": "execute_result"
    }
   ],
   "source": [
    "#bench['pre_z', 'z', 'time', 'nb_plat', 'k_VNS', 'nb_modifs', 'modif_k', 'non_fini']\n",
    "bench.keys()"
   ]
  },
  {
   "cell_type": "code",
   "execution_count": 63,
   "metadata": {},
   "outputs": [
    {
     "data": {
      "text/plain": [
       "[25, 27, 11, 0, 7]"
      ]
     },
     "execution_count": 63,
     "metadata": {},
     "output_type": "execute_result"
    }
   ],
   "source": [
    "bench['nb_modifs']"
   ]
  },
  {
   "cell_type": "code",
   "execution_count": 66,
   "metadata": {},
   "outputs": [
    {
     "name": "stdout",
     "output_type": "stream",
     "text": [
      "[[[-1, 0, 0], [-1, 0, 0], [-1, 0, 0], [-1, 0, 0], [-1, 0, 0], [-1, 0, 0], [-1, 0, 0], [-1, 0, 0], [-1, 0, 1], [-1, 0, 1], [-1, 0, 2], [0, 0, 0], [0, 1, 0], [1, 0, 0], [1, 0, 0], [1, 0, 0], [1, 0, 0], [1, 1, 0], [1, 1, 0], [1, 1, 0], [1, 0, 2], [1, 0, 0], [1, 0, 0], [1, 0, 0], [1, 0, 2]], [[-1, 0, 0], [-1, 0, 0], [-1, 0, 0], [-1, 0, 1], [-1, 0, 1], [-1, 0, 1], [-1, 0, 2], [-1, 0, 0], [0, 0, 0], [0, 0, 0], [0, 1, 0], [0, 1, 0], [0, 1, 0], [0, 1, 0], [0, 1, 0], [0, 1, 0], [0, 1, 0], [0, 1, 0], [0, 0, 1], [0, 0, 2], [0, 0, 0], [0, 0, 0], [0, 0, 0], [0, 0, 0], [0, 0, 0], [0, 0, 0], [0, 0, 0]], [[0, 0, 0], [0, 0, 0], [0, 0, 0], [0, 1, 0], [0, 1, 0], [0, 1, 0], [0, 1, 0], [0, 1, 0], [0, 1, 0], [0, 1, 0], [0, 1, 0]], [], [[0, 0, 0], [0, 1, 2], [0, 1, 0], [0, 1, 0], [1, 0, 0], [1, 1, 0], [1, 1, 0]]]\n",
      "5\n",
      "25\n",
      "27\n",
      "11\n",
      "0\n",
      "7\n"
     ]
    }
   ],
   "source": [
    "print(bench[\"modif_k\"])\n",
    "print(len(bench[\"modif_k\"]))\n",
    "for i in range(len(bench[\"modif_k\"])):\n",
    "    print(len(bench[\"modif_k\"][i]))"
   ]
  },
  {
   "cell_type": "code",
   "execution_count": 55,
   "metadata": {},
   "outputs": [
    {
     "data": {
      "text/plain": [
       "[2, 1, 2, 1, 2]"
      ]
     },
     "execution_count": 55,
     "metadata": {},
     "output_type": "execute_result"
    }
   ],
   "source": [
    "bench[\"nb_plat\"]"
   ]
  },
  {
   "cell_type": "code",
   "execution_count": 69,
   "metadata": {},
   "outputs": [
    {
     "name": "stdout",
     "output_type": "stream",
     "text": [
      "5\n",
      "0\n",
      "1\n",
      "2\n",
      "3\n",
      "4\n",
      "[[[-1, 11], [0, 2], [1, 12]], [[-1, 8], [0, 19]], [[-1, 0], [0, 11], [1, 0]], [[-1, 0], [0, 0]], [[-1, 0], [0, 4], [1, 3]]]\n"
     ]
    }
   ],
   "source": [
    "sum_sum_p_modif = []\n",
    "sum_sum_k_modif = np.zeros(4).tolist()\n",
    "a_sum_k_modif = []\n",
    "print(len(bench[\"modif_k\"]))\n",
    "\n",
    "for i in range(len(bench[\"modif_k\"])):\n",
    "    print(i)\n",
    "    sum_p_modif = []\n",
    "    \n",
    "    for j in range(bench[\"nb_plat\"][i]+1):\n",
    "        sum_p_modif.append([j-1,0])\n",
    "\n",
    "    for j in range(len(bench[\"modif_k\"][i])):\n",
    "        modif = bench[\"modif_k\"][i][j]\n",
    "        sum_p_modif[modif[0]+1][1] += 1\n",
    "\n",
    "    sum_sum_p_modif.append(sum_p_modif)\n",
    "    \n",
    "print(sum_sum_p_modif)\n"
   ]
  },
  {
   "cell_type": "code",
   "execution_count": 3,
   "metadata": {},
   "outputs": [],
   "source": [
    "import ast\n",
    "from src.resolution.struct.plateforme import *\n",
    "from src.entity.instance import *\n",
    "\n",
    "\n",
    "with open(\"solution test.txt\",\"r\") as f:\n",
    "        d = ast.literal_eval(f.read())\n",
    "\n",
    "\n"
   ]
  },
  {
   "cell_type": "code",
   "execution_count": null,
   "metadata": {},
   "outputs": [],
   "source": [
    "Plateforme()"
   ]
  },
  {
   "cell_type": "code",
   "execution_count": 13,
   "metadata": {},
   "outputs": [
    {
     "data": {
      "text/plain": [
       "{'sales': [{'order': [110, 86, 87, 85, 104, 105, 106, 83, 98, 82, 107, 109],\n",
       "   'size': 12,\n",
       "   'load': 905.5},\n",
       "  {'order': [96, 95, 81, 97, 91, 90, 103, 102, 93, 89, 99, 92, 94],\n",
       "   'size': 13,\n",
       "   'load': 1198.5}],\n",
       " 'plateformes': [{'numero': 11,\n",
       "   'xT': 1,\n",
       "   'cli_affect': [35,\n",
       "    36,\n",
       "    37,\n",
       "    38,\n",
       "    39,\n",
       "    40,\n",
       "    41,\n",
       "    42,\n",
       "    43,\n",
       "    44,\n",
       "    45,\n",
       "    46,\n",
       "    47,\n",
       "    48,\n",
       "    49,\n",
       "    50,\n",
       "    51,\n",
       "    52,\n",
       "    53,\n",
       "    54,\n",
       "    55,\n",
       "    56,\n",
       "    57,\n",
       "    58,\n",
       "    59,\n",
       "    60,\n",
       "    61,\n",
       "    62,\n",
       "    63,\n",
       "    64,\n",
       "    65,\n",
       "    66,\n",
       "    67,\n",
       "    68,\n",
       "    69,\n",
       "    70,\n",
       "    71,\n",
       "    72,\n",
       "    73,\n",
       "    74,\n",
       "    75,\n",
       "    76,\n",
       "    77,\n",
       "    78,\n",
       "    79,\n",
       "    80],\n",
       "   'pt_affect': [81,\n",
       "    82,\n",
       "    83,\n",
       "    84,\n",
       "    85,\n",
       "    86,\n",
       "    87,\n",
       "    88,\n",
       "    89,\n",
       "    90,\n",
       "    91,\n",
       "    92,\n",
       "    93,\n",
       "    94,\n",
       "    95,\n",
       "    96,\n",
       "    97,\n",
       "    98,\n",
       "    99,\n",
       "    100,\n",
       "    101,\n",
       "    102,\n",
       "    103,\n",
       "    104,\n",
       "    105,\n",
       "    106,\n",
       "    107,\n",
       "    108,\n",
       "    109,\n",
       "    110,\n",
       "    111],\n",
       "   'tournees': [[{'order': [81,\n",
       "       97,\n",
       "       83,\n",
       "       84,\n",
       "       86,\n",
       "       85,\n",
       "       87,\n",
       "       110,\n",
       "       104,\n",
       "       106,\n",
       "       105,\n",
       "       101,\n",
       "       100,\n",
       "       96,\n",
       "       95,\n",
       "       102,\n",
       "       103,\n",
       "       90,\n",
       "       91,\n",
       "       88,\n",
       "       94,\n",
       "       89,\n",
       "       93,\n",
       "       92],\n",
       "      'size': 24,\n",
       "      'load': 1164.0},\n",
       "     {'order': [82, 107, 108, 111, 109, 98], 'size': 6, 'load': 1184.0},\n",
       "     {'order': [99], 'size': 1, 'load': 38.0}],\n",
       "    [{'order': [81,\n",
       "       97,\n",
       "       83,\n",
       "       84,\n",
       "       86,\n",
       "       85,\n",
       "       87,\n",
       "       110,\n",
       "       104,\n",
       "       106,\n",
       "       105,\n",
       "       101,\n",
       "       100,\n",
       "       96,\n",
       "       95,\n",
       "       102,\n",
       "       103,\n",
       "       90,\n",
       "       91,\n",
       "       88,\n",
       "       94,\n",
       "       89,\n",
       "       93,\n",
       "       92],\n",
       "      'size': 24,\n",
       "      'load': 1164.0},\n",
       "     {'order': [82, 107, 108, 111, 109, 98], 'size': 6, 'load': 1184.0},\n",
       "     {'order': [99], 'size': 1, 'load': 38.0}],\n",
       "    [{'order': [81,\n",
       "       97,\n",
       "       83,\n",
       "       84,\n",
       "       86,\n",
       "       85,\n",
       "       87,\n",
       "       110,\n",
       "       104,\n",
       "       106,\n",
       "       105,\n",
       "       101,\n",
       "       100,\n",
       "       96,\n",
       "       95,\n",
       "       102,\n",
       "       103,\n",
       "       90,\n",
       "       91,\n",
       "       88,\n",
       "       94,\n",
       "       89,\n",
       "       93,\n",
       "       92],\n",
       "      'size': 24,\n",
       "      'load': 1164.0},\n",
       "     {'order': [82, 107, 108, 111, 109, 98], 'size': 6, 'load': 1184.0},\n",
       "     {'order': [99], 'size': 1, 'load': 38.0}],\n",
       "    [{'order': [35,\n",
       "       75,\n",
       "       36,\n",
       "       73,\n",
       "       49,\n",
       "       51,\n",
       "       50,\n",
       "       56,\n",
       "       72,\n",
       "       71,\n",
       "       57,\n",
       "       74,\n",
       "       68,\n",
       "       54,\n",
       "       45,\n",
       "       44,\n",
       "       46],\n",
       "      'size': 17,\n",
       "      'load': 1194.0},\n",
       "     {'order': [37, 47, 38, 41, 40, 39, 42, 52, 43, 67, 48, 76, 77, 80, 78],\n",
       "      'size': 15,\n",
       "      'load': 1168.0},\n",
       "     {'order': [53, 55, 58, 60, 79, 59, 61, 62, 63, 64, 66, 65],\n",
       "      'size': 12,\n",
       "      'load': 1176.0},\n",
       "     {'order': [69, 70], 'size': 2, 'load': 48.0}],\n",
       "    [{'order': [35,\n",
       "       75,\n",
       "       36,\n",
       "       73,\n",
       "       49,\n",
       "       51,\n",
       "       50,\n",
       "       56,\n",
       "       72,\n",
       "       71,\n",
       "       57,\n",
       "       74,\n",
       "       68,\n",
       "       54,\n",
       "       45,\n",
       "       44,\n",
       "       46],\n",
       "      'size': 17,\n",
       "      'load': 1194.0},\n",
       "     {'order': [37, 47, 38, 41, 40, 39, 42, 52, 43, 67, 48, 76, 77, 80, 78],\n",
       "      'size': 15,\n",
       "      'load': 1168.0},\n",
       "     {'order': [53, 55, 58, 60, 79, 59, 61, 62, 63, 64, 66, 65],\n",
       "      'size': 12,\n",
       "      'load': 1176.0},\n",
       "     {'order': [69, 70], 'size': 2, 'load': 48.0}],\n",
       "    [{'order': [35,\n",
       "       75,\n",
       "       36,\n",
       "       73,\n",
       "       49,\n",
       "       51,\n",
       "       50,\n",
       "       56,\n",
       "       72,\n",
       "       71,\n",
       "       57,\n",
       "       74,\n",
       "       68,\n",
       "       54,\n",
       "       45,\n",
       "       44,\n",
       "       46],\n",
       "      'size': 17,\n",
       "      'load': 1194.0},\n",
       "     {'order': [37, 47, 38, 41, 40, 39, 42, 52, 43, 67, 48, 76, 77, 80, 78],\n",
       "      'size': 15,\n",
       "      'load': 1168.0},\n",
       "     {'order': [53, 55, 58, 60, 79, 59, 61, 62, 63, 64, 66, 65],\n",
       "      'size': 12,\n",
       "      'load': 1176.0},\n",
       "     {'order': [69, 70], 'size': 2, 'load': 48.0}],\n",
       "    [{'order': [35,\n",
       "       75,\n",
       "       36,\n",
       "       73,\n",
       "       49,\n",
       "       51,\n",
       "       50,\n",
       "       56,\n",
       "       72,\n",
       "       71,\n",
       "       57,\n",
       "       74,\n",
       "       68,\n",
       "       54,\n",
       "       45,\n",
       "       44,\n",
       "       46],\n",
       "      'size': 17,\n",
       "      'load': 1194.0},\n",
       "     {'order': [37, 47, 38, 41, 40, 39, 42, 52, 43, 67, 48, 76, 77, 80, 78],\n",
       "      'size': 15,\n",
       "      'load': 1168.0},\n",
       "     {'order': [53, 55, 58, 60, 79, 59, 61, 62, 63, 64, 66, 65],\n",
       "      'size': 12,\n",
       "      'load': 1176.0},\n",
       "     {'order': [69, 70], 'size': 2, 'load': 48.0}]]}]}"
      ]
     },
     "execution_count": 13,
     "metadata": {},
     "output_type": "execute_result"
    }
   ],
   "source": [
    "d"
   ]
  },
  {
   "cell_type": "code",
   "execution_count": 6,
   "metadata": {},
   "outputs": [
    {
     "data": {
      "text/plain": [
       "dict_keys(['sales', 'plateformes'])"
      ]
     },
     "execution_count": 6,
     "metadata": {},
     "output_type": "execute_result"
    }
   ],
   "source": [
    "d.keys()"
   ]
  },
  {
   "cell_type": "code",
   "execution_count": 7,
   "metadata": {},
   "outputs": [
    {
     "data": {
      "text/plain": [
       "dict_keys(['numero', 'xT', 'cli_affect', 'pt_affect', 'tournees'])"
      ]
     },
     "execution_count": 7,
     "metadata": {},
     "output_type": "execute_result"
    }
   ],
   "source": [
    "d[\"plateformes\"][0].keys()"
   ]
  },
  {
   "cell_type": "code",
   "execution_count": 8,
   "metadata": {},
   "outputs": [
    {
     "data": {
      "text/plain": [
       "dict_keys(['order', 'size', 'load'])"
      ]
     },
     "execution_count": 8,
     "metadata": {},
     "output_type": "execute_result"
    }
   ],
   "source": [
    "d[\"sales\"][0].keys()"
   ]
  },
  {
   "cell_type": "code",
   "execution_count": 11,
   "metadata": {},
   "outputs": [
    {
     "ename": "NameError",
     "evalue": "name 'Sub_data' is not defined",
     "output_type": "error",
     "traceback": [
      "\u001b[1;31m---------------------------------------------------------------------------\u001b[0m",
      "\u001b[1;31mNameError\u001b[0m                                 Traceback (most recent call last)",
      "Cell \u001b[1;32mIn[11], line 2\u001b[0m\n\u001b[0;32m      1\u001b[0m \u001b[38;5;66;03m#Modifier un dict décrivant une solution en indices lors de résolution en solution avec indices post resolution\u001b[39;00m\n\u001b[1;32m----> 2\u001b[0m \u001b[38;5;28;01mdef\u001b[39;00m \u001b[38;5;21mupdating_solution_to_instance\u001b[39m(d_s : \u001b[38;5;28mdict\u001b[39m, indices_resolution:\u001b[38;5;28mlist\u001b[39m, data:\u001b[43mSub_data\u001b[49m):\n\u001b[0;32m      3\u001b[0m     \u001b[38;5;28;01mreturn\u001b[39;00m \u001b[38;5;241m0\u001b[39m\n\u001b[0;32m      5\u001b[0m \u001b[38;5;28;01mdef\u001b[39;00m \u001b[38;5;21mupdating_plateforme\u001b[39m(d_p : \u001b[38;5;28mdict\u001b[39m, indices:\u001b[38;5;28mlist\u001b[39m, base_c :\u001b[38;5;28mint\u001b[39m, base_pt : \u001b[38;5;28mint\u001b[39m, t:\u001b[38;5;28mint\u001b[39m):\n",
      "\u001b[1;31mNameError\u001b[0m: name 'Sub_data' is not defined"
     ]
    }
   ],
   "source": [
    "#Modifier un dict décrivant une solution en indices lors de résolution en solution avec indices post resolution\n",
    "def updating_solution_to_instance(d_s : dict, indices_resolution:list, data:Sub_data):\n",
    "    return 0\n",
    "\n",
    "def updating_plateforme(d_p : dict, indices:list, base_c :int, base_pt : int, t:int):\n",
    "    for c in d_p[\"cli_affect\"]:\n",
    "        print(c)\n",
    "\n",
    "    \n",
    "def updating_tournee(t : Tournee, base:int, indices:list):\n",
    "    return 0"
   ]
  },
  {
   "cell_type": "code",
   "execution_count": null,
   "metadata": {},
   "outputs": [],
   "source": []
  }
 ],
 "metadata": {
  "kernelspec": {
   "display_name": "Python 3 (ipykernel)",
   "language": "python",
   "name": "python3"
  },
  "language_info": {
   "codemirror_mode": {
    "name": "ipython",
    "version": 3
   },
   "file_extension": ".py",
   "mimetype": "text/x-python",
   "name": "python",
   "nbconvert_exporter": "python",
   "pygments_lexer": "ipython3",
   "version": "3.10.7"
  }
 },
 "nbformat": 4,
 "nbformat_minor": 4
}
