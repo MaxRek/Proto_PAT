{
 "cells": [
  {
   "cell_type": "code",
   "execution_count": 46,
   "metadata": {
    "tags": []
   },
   "outputs": [],
   "source": [
    "import ast\n",
    "import numpy as np\n",
    "import matplotlib.pyplot as plt "
   ]
  },
  {
   "cell_type": "code",
   "execution_count": 47,
   "metadata": {},
   "outputs": [],
   "source": [
    "from src.resolution.benchmark import plot_obj,plot_time"
   ]
  },
  {
   "cell_type": "code",
   "execution_count": 61,
   "metadata": {},
   "outputs": [],
   "source": [
    "name = \"out/didactic/7_1 11-19/stats/benchmark.txt\"\n",
    "with open(name) as f:\n",
    "    bench = ast.literal_eval(f.read())"
   ]
  },
  {
   "cell_type": "code",
   "execution_count": 62,
   "metadata": {},
   "outputs": [
    {
     "data": {
      "text/plain": [
       "dict_keys(['pre_z', 'z', 'time', 'nb_plat', 'k_VNS', 'nb_modifs', 'modif_k', 'non_fini'])"
      ]
     },
     "execution_count": 62,
     "metadata": {},
     "output_type": "execute_result"
    }
   ],
   "source": [
    "#bench['pre_z', 'z', 'time', 'nb_plat', 'k_VNS', 'nb_modifs', 'modif_k', 'non_fini']\n",
    "bench.keys()"
   ]
  },
  {
   "cell_type": "code",
   "execution_count": 63,
   "metadata": {},
   "outputs": [
    {
     "data": {
      "text/plain": [
       "[25, 27, 11, 0, 7]"
      ]
     },
     "execution_count": 63,
     "metadata": {},
     "output_type": "execute_result"
    }
   ],
   "source": [
    "bench['nb_modifs']"
   ]
  },
  {
   "cell_type": "code",
   "execution_count": 66,
   "metadata": {},
   "outputs": [
    {
     "name": "stdout",
     "output_type": "stream",
     "text": [
      "[[[-1, 0, 0], [-1, 0, 0], [-1, 0, 0], [-1, 0, 0], [-1, 0, 0], [-1, 0, 0], [-1, 0, 0], [-1, 0, 0], [-1, 0, 1], [-1, 0, 1], [-1, 0, 2], [0, 0, 0], [0, 1, 0], [1, 0, 0], [1, 0, 0], [1, 0, 0], [1, 0, 0], [1, 1, 0], [1, 1, 0], [1, 1, 0], [1, 0, 2], [1, 0, 0], [1, 0, 0], [1, 0, 0], [1, 0, 2]], [[-1, 0, 0], [-1, 0, 0], [-1, 0, 0], [-1, 0, 1], [-1, 0, 1], [-1, 0, 1], [-1, 0, 2], [-1, 0, 0], [0, 0, 0], [0, 0, 0], [0, 1, 0], [0, 1, 0], [0, 1, 0], [0, 1, 0], [0, 1, 0], [0, 1, 0], [0, 1, 0], [0, 1, 0], [0, 0, 1], [0, 0, 2], [0, 0, 0], [0, 0, 0], [0, 0, 0], [0, 0, 0], [0, 0, 0], [0, 0, 0], [0, 0, 0]], [[0, 0, 0], [0, 0, 0], [0, 0, 0], [0, 1, 0], [0, 1, 0], [0, 1, 0], [0, 1, 0], [0, 1, 0], [0, 1, 0], [0, 1, 0], [0, 1, 0]], [], [[0, 0, 0], [0, 1, 2], [0, 1, 0], [0, 1, 0], [1, 0, 0], [1, 1, 0], [1, 1, 0]]]\n",
      "5\n",
      "25\n",
      "27\n",
      "11\n",
      "0\n",
      "7\n"
     ]
    }
   ],
   "source": [
    "print(bench[\"modif_k\"])\n",
    "print(len(bench[\"modif_k\"]))\n",
    "for i in range(len(bench[\"modif_k\"])):\n",
    "    print(len(bench[\"modif_k\"][i]))"
   ]
  },
  {
   "cell_type": "code",
   "execution_count": 55,
   "metadata": {},
   "outputs": [
    {
     "data": {
      "text/plain": [
       "[2, 1, 2, 1, 2]"
      ]
     },
     "execution_count": 55,
     "metadata": {},
     "output_type": "execute_result"
    }
   ],
   "source": [
    "bench[\"nb_plat\"]"
   ]
  },
  {
   "cell_type": "code",
   "execution_count": 69,
   "metadata": {},
   "outputs": [
    {
     "name": "stdout",
     "output_type": "stream",
     "text": [
      "5\n",
      "0\n",
      "1\n",
      "2\n",
      "3\n",
      "4\n",
      "[[[-1, 11], [0, 2], [1, 12]], [[-1, 8], [0, 19]], [[-1, 0], [0, 11], [1, 0]], [[-1, 0], [0, 0]], [[-1, 0], [0, 4], [1, 3]]]\n"
     ]
    }
   ],
   "source": [
    "sum_sum_p_modif = []\n",
    "sum_sum_k_modif = np.zeros(4).tolist()\n",
    "a_sum_k_modif = []\n",
    "print(len(bench[\"modif_k\"]))\n",
    "\n",
    "for i in range(len(bench[\"modif_k\"])):\n",
    "    print(i)\n",
    "    sum_p_modif = []\n",
    "    \n",
    "    for j in range(bench[\"nb_plat\"][i]+1):\n",
    "        sum_p_modif.append([j-1,0])\n",
    "\n",
    "    for j in range(len(bench[\"modif_k\"][i])):\n",
    "        modif = bench[\"modif_k\"][i][j]\n",
    "        sum_p_modif[modif[0]+1][1] += 1\n",
    "\n",
    "    sum_sum_p_modif.append(sum_p_modif)\n",
    "    \n",
    "print(sum_sum_p_modif)\n"
   ]
  },
  {
   "cell_type": "code",
   "execution_count": null,
   "metadata": {},
   "outputs": [],
   "source": []
  }
 ],
 "metadata": {
  "kernelspec": {
   "display_name": "Python 3 (ipykernel)",
   "language": "python",
   "name": "python3"
  },
  "language_info": {
   "codemirror_mode": {
    "name": "ipython",
    "version": 3
   },
   "file_extension": ".py",
   "mimetype": "text/x-python",
   "name": "python",
   "nbconvert_exporter": "python",
   "pygments_lexer": "ipython3",
   "version": "3.10.7"
  }
 },
 "nbformat": 4,
 "nbformat_minor": 4
}
